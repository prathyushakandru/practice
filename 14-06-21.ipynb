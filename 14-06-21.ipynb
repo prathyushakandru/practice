{
 "cells": [
  {
   "cell_type": "code",
   "execution_count": 1,
   "metadata": {},
   "outputs": [
    {
     "name": "stdout",
     "output_type": "stream",
     "text": [
      "enter the stringprathyusha\n",
      "prha\n"
     ]
    }
   ],
   "source": [
    "#3.Write a Python program to get a string made of the first 2 and the last 2 chars from a given a string. If the string length is less than 2, return instead of the empty string.\n",
    "a=input('enter the string')\n",
    "a.split(\",\")\n",
    "x=a[0:2]\n",
    "y=a[-2:]\n",
    "if len(a)>=2:\n",
    "    print(x+y)\n",
    "else:\n",
    "    print('empty string')"
   ]
  },
  {
   "cell_type": "code",
   "execution_count": 1,
   "metadata": {},
   "outputs": [
    {
     "name": "stdout",
     "output_type": "stream",
     "text": [
      "enter yor nameprathyu\n",
      ">5\n",
      "hyuhyuhyuhyuhyu\n"
     ]
    }
   ],
   "source": [
    "#print last three letters of your name n number of times\n",
    "a=input('enter yor name')\n",
    "n=int(input('>'))\n",
    "c=a[-3:]\n",
    "print(c*n)\n"
   ]
  },
  {
   "cell_type": "code",
   "execution_count": 2,
   "metadata": {},
   "outputs": [
    {
     "name": "stdout",
     "output_type": "stream",
     "text": [
      "enter an integer123\n",
      "6\n"
     ]
    }
   ],
   "source": [
    "# sum of digits in an integer\n",
    "n=int(input('enter an integer'))\n",
    "sum=0\n",
    "while n>0:\n",
    "    r=n%10\n",
    "    sum=sum+r\n",
    "    n=n//10\n",
    "print(sum)"
   ]
  },
  {
   "cell_type": "code",
   "execution_count": null,
   "metadata": {},
   "outputs": [],
   "source": [
    "### reverse number\n",
    "n=int(input('enter the number'))\n",
    "rev=0\n",
    "while n>0:\n",
    "    r=n%10\n",
    "    rev=rev*10+r\n",
    "    n=n//10\n",
    "print(rev)\n"
   ]
  },
  {
   "cell_type": "code",
   "execution_count": null,
   "metadata": {},
   "outputs": [],
   "source": [
    "#Write a program to check if the given string is a valid password or not. A string is considered as a valid password if the number of characters present is greater than 7.\n",
    "a=input('enter the password')\n",
    "if len(a)>7:\n",
    "    print('strong password')\n",
    "else:\n",
    "    print('not strong password')"
   ]
  },
  {
   "cell_type": "code",
   "execution_count": null,
   "metadata": {},
   "outputs": [],
   "source": [
    "Write a program which checks whether the given number N is between 25 and 75.\n",
    "n=int(input('enter the number'))\n",
    "if 25<=n<=75:\n",
    "    print('the given number is in the range')\n",
    "else:\n",
    "    print('not in range')"
   ]
  },
  {
   "cell_type": "code",
   "execution_count": null,
   "metadata": {},
   "outputs": [],
   "source": [
    "#Write a program that reads the student's marks as input and prints PASS or FAIL.If the student has scored more than 50, print PASS.\n",
    "In all other cases print FAIL.\n",
    "n=int(input('enter your marks'))\n",
    "if n>50:\n",
    "    print('pass')\n",
    "else:\n",
    "    print('fail')\n"
   ]
  },
  {
   "cell_type": "code",
   "execution_count": null,
   "metadata": {},
   "outputs": [],
   "source": [
    "#Write a program to create a menu driven calculator that performs basic arithmetic operations (+, -, *, /, and %).\n",
    "a=int(input('enter a number'))\n",
    "b=int(input('enter a numver'))\n",
    "print(a+b)\n",
    "print(a-b)\n",
    "print(a*b)\n",
    "print(a/b)\n",
    "print(a%b)\n"
   ]
  },
  {
   "cell_type": "code",
   "execution_count": null,
   "metadata": {},
   "outputs": [],
   "source": [
    "#>A company decided to give a bonus of 5% to an employee if his/her years of service is more than five years.\n",
    "Write a program that reads an employee's salary and years of service and decides whether the employee gets the bonus or not.\n",
    "n=int(input('enter your salery'))\n",
    "a=int(input('no of years of service'))\n",
    "if a>5:\n",
    "    print('the employe get 5% bonous')\n",
    "else:\n",
    "    print('no')"
   ]
  }
 ],
 "metadata": {
  "kernelspec": {
   "display_name": "Python 3",
   "language": "python",
   "name": "python3"
  },
  "language_info": {
   "codemirror_mode": {
    "name": "ipython",
    "version": 3
   },
   "file_extension": ".py",
   "mimetype": "text/x-python",
   "name": "python",
   "nbconvert_exporter": "python",
   "pygments_lexer": "ipython3",
   "version": "3.7.4"
  }
 },
 "nbformat": 4,
 "nbformat_minor": 2
}
